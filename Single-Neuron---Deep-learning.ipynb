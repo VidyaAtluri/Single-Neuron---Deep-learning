{
 "cells": [
  {
   "cell_type": "code",
   "execution_count": 1,
   "metadata": {},
   "outputs": [],
   "source": [
    "### DO NOT EDIT THIS CELL!!!\n",
    "### DO NOT IMPORT ANY ADDITIONAL PACKAGES\n",
    "\n",
    "import numpy as np\n",
    "import scipy\n",
    "from sklearn import metrics\n",
    "import matplotlib.pyplot as plt\n",
    "%matplotlib inline"
   ]
  },
  {
   "cell_type": "markdown",
   "metadata": {},
   "source": [
    "### PART 1\n",
    "\n",
    "* Logistic Regression for Binary Classification using the breast cancer dataset\n",
    "\n",
    "* We aren't going to preprocess data or split into train/test since the focus here is purely on the gradient descent algorithm\n",
    "\n",
    "* NOTE: YOU WILL ONLY EDIT ONE CELL FOR PART-1 (SEE BELOW)"
   ]
  },
  {
   "cell_type": "code",
   "execution_count": 2,
   "metadata": {},
   "outputs": [
    {
     "name": "stdout",
     "output_type": "stream",
     "text": [
      "X:  (569, 30)\n",
      "y:  (569, 1)\n",
      "m:  569\n",
      "n:  30\n",
      "features:  ['mean radius' 'mean texture' 'mean perimeter' 'mean area'\n",
      " 'mean smoothness' 'mean compactness' 'mean concavity'\n",
      " 'mean concave points' 'mean symmetry' 'mean fractal dimension'\n",
      " 'radius error' 'texture error' 'perimeter error' 'area error'\n",
      " 'smoothness error' 'compactness error' 'concavity error'\n",
      " 'concave points error' 'symmetry error' 'fractal dimension error'\n",
      " 'worst radius' 'worst texture' 'worst perimeter' 'worst area'\n",
      " 'worst smoothness' 'worst compactness' 'worst concavity'\n",
      " 'worst concave points' 'worst symmetry' 'worst fractal dimension']\n"
     ]
    }
   ],
   "source": [
    "### DO NOT EDIT THIS CELL!!!\n",
    "\n",
    "# read the breast cancer dataset from sklearn\n",
    "from sklearn.datasets import load_breast_cancer\n",
    "\n",
    "dataset = load_breast_cancer()\n",
    "\n",
    "# feature matrix X: mxn\n",
    "X = dataset.data\n",
    "print (\"X: \", X.shape)\n",
    "\n",
    "# target vector y: mx1\n",
    "y = dataset.target\n",
    "y = y.reshape(y.shape[0], 1)\n",
    "print (\"y: \", y.shape)\n",
    "\n",
    "# number of samples: m\n",
    "m = X.shape[0]\n",
    "print (\"m: \", m)\n",
    "\n",
    "# number of features: n\n",
    "n = X.shape[1]\n",
    "features = dataset.feature_names\n",
    "print (\"n: \",n)\n",
    "print (\"features: \", features)"
   ]
  },
  {
   "cell_type": "code",
   "execution_count": 3,
   "metadata": {},
   "outputs": [
    {
     "name": "stdout",
     "output_type": "stream",
     "text": [
      "Accuracy: 0.9191564147627417\n"
     ]
    },
    {
     "data": {
      "image/png": "[encoded data removed]",
      "text/plain": [
       "<Figure size 432x288 with 1 Axes>"
      ]
     },
     "metadata": {
      "needs_background": "light"
     },
     "output_type": "display_data"
    }
   ],
   "source": [
    "### THIS IS THE ONLY CELL YOU MUST EDIT FOR PART-1\n",
    "\n",
    "# train the logistic regression model\n",
    "import numpy as np\n",
    "import matplotlib.pyplot as plt\n",
    "from sklearn import metrics\n",
    "\n",
    "# initialize hyperparameters nepochs and alpha\n",
    "nepochs = 5000\n",
    "alpha = 2.5e-6\n",
    "\n",
    "# initialize model parameters w and b\n",
    "w = np.zeros((n,1))\n",
    "b = 0\n",
    "\n",
    "# this list will collect loss for each iteration\n",
    "costs = []\n",
    "\n",
    "# repeat for nepochs\n",
    "for i in range(nepochs):\n",
    "        \n",
    "    # forward pass (calculate current loss)\n",
    "    z = X@w+b\n",
    "    \n",
    "    y_hat = 1/(1 + np.exp(-z))\n",
    "    \n",
    "    J = -1/m*(y.T @ np.log(y_hat) + (1 - y).T@ np.log(1 - y_hat))\n",
    "    \n",
    "    # backward propagation (calculate current gradient)\n",
    "    dJ_dw = 1/m*X.T@(y_hat-y)\n",
    "    dJ_db = 1/m*np.sum(y_hat-y)\n",
    "    \n",
    "    # gradient descent (update parameters)\n",
    "    w = w-alpha*dJ_dw\n",
    "    b = b-alpha*dJ_db\n",
    "    \n",
    "    # append loss to costs \n",
    "    costs.append(J)\n",
    "    \n",
    "\n",
    "# use final parameters w and b to calculate accuracy for training data X, y\n",
    "# - do a single forward pass for X: calculate z, y_hat\n",
    "# - set y_hat to round(y_hat) (that is, thresholding binary classification prediction at 0.5)\n",
    "# - calculate metrics.accuracy_score(y, y_hat) and print it\n",
    "z = X@w+b\n",
    "y_hat = np.round(1/(1 + np.exp(-z)))\n",
    "print(\"Accuracy:\", metrics.accuracy_score(y,y_hat))\n",
    "\n",
    "# use plt.plot(costs) to plot costs against iterations and show the plot\n",
    "costs = np.concatenate(costs)\n",
    "plt.plot(costs)\n",
    "plt.xlabel('Iterations')\n",
    "plt.ylabel('Cost')\n",
    "plt.title('Cost variation with Iterations')\n",
    "plt.show()"
   ]
  },
  {
   "cell_type": "code",
   "execution_count": 4,
   "metadata": {},
   "outputs": [
    {
     "name": "stderr",
     "output_type": "stream",
     "text": [
      "C:\\Users\\pkolla3\\Anaconda3\\lib\\site-packages\\sklearn\\linear_model\\_stochastic_gradient.py:173: FutureWarning: The loss 'log' was deprecated in v1.1 and will be removed in version 1.3. Use `loss='log_loss'` which is equivalent.\n",
      "  warnings.warn(\n"
     ]
    },
    {
     "name": "stdout",
     "output_type": "stream",
     "text": [
      "0.92\n"
     ]
    }
   ],
   "source": [
    "### DO NOT EDIT THIS CELL!!!\n",
    "\n",
    "# compare results from your implementation to that of SGDClassifier\n",
    "# your accuracy score above should match (or be very close to) what you get from here\n",
    "\n",
    "nepochs = 5000\n",
    "alpha = 2.5e-6\n",
    "y = y.reshape(y.shape[0],) # to avoid warning\n",
    "\n",
    "from sklearn.linear_model import SGDClassifier\n",
    "clf = SGDClassifier(loss='log', # loss function for logistic regression\n",
    "                    penalty=None, alpha=0, # no regularization\n",
    "                    max_iter=nepochs, tol=None, # stop based only on nepochs\n",
    "                    shuffle=False, random_state=0, # don't shuffle, use random state to replicate results\n",
    "                    learning_rate='constant', eta0=alpha) # constant learning rate of alpha\n",
    "clf.fit(X,y)\n",
    "print (round(clf.score(X,y),2))"
   ]
  },
  {
   "cell_type": "markdown",
   "metadata": {},
   "source": [
    "### Part 2\n",
    "\n",
    "* Linear Regression using the diabetes dataset \n",
    "\n",
    "* We aren't going to preprocess data or split  into train/test since the focus here is purely on the gradient descent algorithm\n",
    "\n",
    "* NOTE: YOU WILL ONLY EDIT ONE CELL FOR PART-2 (SEE BELOW)"
   ]
  },
  {
   "cell_type": "code",
   "execution_count": 5,
   "metadata": {},
   "outputs": [
    {
     "name": "stdout",
     "output_type": "stream",
     "text": [
      "X:  (442, 10)\n",
      "y:  (442, 1)\n",
      "m:  442\n",
      "n:  10\n",
      "features:  ['age', 'sex', 'bmi', 'bp', 's1', 's2', 's3', 's4', 's5', 's6']\n"
     ]
    }
   ],
   "source": [
    "### DO NOT EDIT THIS CELL!!!\n",
    "\n",
    "# read the diabetes dataset from sklearn\n",
    "from sklearn.datasets import load_diabetes\n",
    "\n",
    "dataset = load_diabetes()\n",
    "\n",
    "# feature matrix X: mxn\n",
    "X = dataset.data\n",
    "print (\"X: \", X.shape)\n",
    "\n",
    "# target vector y: mx1\n",
    "y = dataset.target\n",
    "y = y.reshape(y.shape[0], 1)\n",
    "print (\"y: \", y.shape)\n",
    "\n",
    "# number of samples: m\n",
    "m = X.shape[0]\n",
    "print (\"m: \", m)\n",
    "\n",
    "# number of features: n\n",
    "n = X.shape[1]\n",
    "features = dataset.feature_names\n",
    "print (\"n: \",n)\n",
    "print (\"features: \", features)"
   ]
  },
  {
   "cell_type": "code",
   "execution_count": 6,
   "metadata": {
    "scrolled": true
   },
   "outputs": [
    {
     "name": "stdout",
     "output_type": "stream",
     "text": [
      "MSE =  2880.9411764705883\n",
      "R2 score =  0.5141657508442314\n"
     ]
    },
    {
     "data": {
      "image/png": "[encoded data removed]",
      "text/plain": [
       "<Figure size 432x288 with 1 Axes>"
      ]
     },
     "metadata": {
      "needs_background": "light"
     },
     "output_type": "display_data"
    }
   ],
   "source": [
    "### THIS IS THE ONLY CELL YOU MUST EDIT FOR PART-2\n",
    "\n",
    "# train the linear regression model\n",
    "\n",
    "# initialize hyperparameters nepochs and alpha\n",
    "nepochs = 5000\n",
    "alpha = 0.5\n",
    "\n",
    "# initialize model paramters w and b\n",
    "w = np.zeros((n,1))\n",
    "b = 0\n",
    "\n",
    "# this list will collect loss for each iteration\n",
    "costs = []\n",
    "\n",
    "# repeat for nepochs\n",
    "for i in range(nepochs):\n",
    "        \n",
    "    # forward pass (calculate current loss)\n",
    "    z = X@w+b\n",
    "    y_hat = z\n",
    "    J = (1/2*m)*((y_hat - y).T@(y_hat-y))\n",
    "    \n",
    "    \n",
    "    # backward propagation (calculate current gradient)\n",
    "    dJ_dw = (1/m)*np.dot(X.T,(y_hat-y))\n",
    "    dJ_db = (1/m)*np.sum(y_hat - y, axis=0, keepdims=True)\n",
    "    \n",
    "    # gradient descent (update parameters)\n",
    "    w = w-alpha * dJ_dw\n",
    "    b = b-alpha * dJ_db\n",
    "    \n",
    "    # append loss to costs \n",
    "    costs.append(J)\n",
    "    \n",
    "\n",
    "# use final parameters w and b to calcualte mse and r2 for training data X, y\n",
    "#  - do a single forward pass for X: calcualte z, yhat\n",
    "#  - calculate metrics.mean_squared_error(y, yhat) and print it\n",
    "#  - calculate metrics.r2_score(y, yhat) and print it\n",
    "z = X@w+b\n",
    "y_hat = np.round(z)\n",
    "print(\"MSE = \",metrics.mean_squared_error(y, y_hat))\n",
    "print(\"R2 score = \", metrics.r2_score(y, y_hat))\n",
    "\n",
    "# use plt.plot(costs) to plot costs against iterations and show the plot\n",
    "costs = np.concatenate(costs)\n",
    "plt.plot(costs)\n",
    "plt.xlabel('Iterations')\n",
    "plt.ylabel('Cost')\n",
    "plt.title('Cost variation with Iterations')\n",
    "plt.show()"
   ]
  },
  {
   "cell_type": "code",
   "execution_count": 7,
   "metadata": {},
   "outputs": [
    {
     "name": "stdout",
     "output_type": "stream",
     "text": [
      "2922.89\n",
      "0.51\n"
     ]
    },
    {
     "name": "stderr",
     "output_type": "stream",
     "text": [
      "C:\\Users\\pkolla3\\Anaconda3\\lib\\site-packages\\sklearn\\linear_model\\_stochastic_gradient.py:165: FutureWarning: The loss 'squared_loss' was deprecated in v1.0 and will be removed in version 1.2. Use `loss='squared_error'` which is equivalent.\n",
      "  warnings.warn(\n"
     ]
    }
   ],
   "source": [
    "### DO NOT EDIT THIS CELL!!!\n",
    "\n",
    "# compare results from our implementation to that of SGDRegressor\n",
    "# your mse and r2 score above should match (or be very close to) what you get from here\n",
    "\n",
    "nepochs = 5000\n",
    "alpha = 0.5\n",
    "y = y.reshape(y.shape[0],) # to avoid warning\n",
    "\n",
    "from sklearn.linear_model import SGDRegressor\n",
    "clf = SGDRegressor(loss='squared_loss', # mse for linear regression\n",
    "                    penalty=None, alpha=0, # no regularization\n",
    "                    max_iter=nepochs, tol=None, # stop based on only on nepochs\n",
    "                    shuffle=False, random_state=0, # don't shuffle, use random state to replicate results\n",
    "                    learning_rate='constant', eta0=alpha) # constant learning rate of alpha\n",
    "clf.fit(X,y)\n",
    "yhat = clf.predict(X)\n",
    "print (round(metrics.mean_squared_error(y, yhat),2))\n",
    "print (round(clf.score(X,y),2))"
   ]
  }
 ],
 "metadata": {
  "kernelspec": {
   "display_name": "Python 3 (ipykernel)",
   "language": "python",
   "name": "python3"
  },
  "language_info": {
   "codemirror_mode": {
    "name": "ipython",
    "version": 3
   },
   "file_extension": ".py",
   "mimetype": "text/x-python",
   "name": "python",
   "nbconvert_exporter": "python",
   "pygments_lexer": "ipython3",
   "version": "3.9.12"
  }
 },
 "nbformat": 4,
 "nbformat_minor": 2
}
